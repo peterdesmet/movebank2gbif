{
 "cells": [
  {
   "cell_type": "markdown",
   "metadata": {},
   "source": [
    "# Download public tracking data from Movebank"
   ]
  },
  {
   "cell_type": "code",
   "execution_count": 1,
   "metadata": {
    "collapsed": false
   },
   "outputs": [],
   "source": [
    "%matplotlib inline\n",
    "\n",
    "import requests\n",
    "from io import StringIO\n",
    "import pandas as pd\n",
    "import matplotlib.pyplot as plt\n",
    "plt.style.use('seaborn-white')\n",
    "from bs4 import BeautifulSoup\n",
    "import re"
   ]
  },
  {
   "cell_type": "markdown",
   "metadata": {
    "collapsed": true
   },
   "source": [
    "## Use DataCite to get a list of public Movebank datasets\n",
    "\n",
    "There isn't a convenient way to query the [Movebank data repository](https://www.datarepository.movebank.org/), but all its datasets have a DOI registered with DataCite. DataCite does have a [tool to search for datasets](https://search.datacite.org/ui), so we query that API for Movebank datasets. This can be done in two ways:\n",
    "\n",
    "1. Search for `contributor: \"Movebank Data Repository\"`. A few Movebank datasets on DataCite however don't have this field populated (e.g. http://data.datacite.org/10.5441/001/0000003) or don't have metadata at all (e.g. http://data.datacite.org/10.5441/001/1.5337CD16), so would miss those.\n",
    "2. Search for DOI `prefix: \"10.5441\"`, which would also target datasets without metadata. That prefix however is shared between two publishers (`University of Konstanz` & `OpenProceedings.org`). The `Openproceedings.org` is managed by the University of Konstanz, but is not related to Movebank, so we would have to remove those.\n",
    "\n",
    "We'll use the second approach."
   ]
  },
  {
   "cell_type": "markdown",
   "metadata": {},
   "source": [
    "### 1. Get datasets"
   ]
  },
  {
   "cell_type": "code",
   "execution_count": 2,
   "metadata": {
    "collapsed": false
   },
   "outputs": [
    {
     "data": {
      "text/plain": [
       "'https://search.datacite.org/api?wt=csv&fl=doi%2Cpublisher%2Ccontributor%2Ctitle%2Cdescription%2Ccreator%2Csubject%2CrightsURI%2CpublicationYear%2Cformat%2CdescriptionType%2CrelatedIdentifier%2Ccreated%2Cupdated&q=%2A&fq=prefix%3A%2210.5441%22&rows=1000'"
      ]
     },
     "execution_count": 2,
     "metadata": {},
     "output_type": "execute_result"
    }
   ],
   "source": [
    "parameters = {\n",
    "    'q': '*',\n",
    "    'fq': 'prefix:\"10.5441\"',\n",
    "    'fl': ','.join([ # Fields to include\n",
    "        'doi',\n",
    "        'publisher',\n",
    "        'contributor',\n",
    "        'title',\n",
    "        'description',\n",
    "        'creator',\n",
    "        'subject',\n",
    "        'rightsURI',\n",
    "        'publicationYear',\n",
    "        'format',\n",
    "        'descriptionType',\n",
    "        'relatedIdentifier',\n",
    "        'created',\n",
    "        'updated']),\n",
    "    'rows': 1000,\n",
    "    'wt': 'csv'\n",
    "}\n",
    "results = requests.get('https://search.datacite.org/api', params=parameters)\n",
    "results.url"
   ]
  },
  {
   "cell_type": "code",
   "execution_count": 3,
   "metadata": {
    "collapsed": false
   },
   "outputs": [],
   "source": [
    "datasets = pd.read_csv(\n",
    "    StringIO(results.text), # StringIO allows to read a variable as a file\n",
    "    delimiter=',',\n",
    "    dtype=object\n",
    ")"
   ]
  },
  {
   "cell_type": "markdown",
   "metadata": {},
   "source": [
    "### 2. Correct some formatting issues & remove OpenProceedings.org datasets\n",
    "\n",
    "In the DataCite CSV response, commas are escaped within a field: `Tarroux A\\, Weimerskirch H\\, Wang\\, S-H\\, Brom...`, so we remove those to get: `Tarroux A, Weimerskirch H, Wang, S-H, Brom...`"
   ]
  },
  {
   "cell_type": "code",
   "execution_count": 4,
   "metadata": {
    "collapsed": false
   },
   "outputs": [
    {
     "data": {
      "text/html": [
       "<div>\n",
       "<table border=\"1\" class=\"dataframe\">\n",
       "  <thead>\n",
       "    <tr style=\"text-align: right;\">\n",
       "      <th></th>\n",
       "      <th>doi</th>\n",
       "      <th>publisher</th>\n",
       "      <th>contributor</th>\n",
       "      <th>title</th>\n",
       "      <th>description</th>\n",
       "      <th>creator</th>\n",
       "      <th>subject</th>\n",
       "      <th>rightsURI</th>\n",
       "      <th>publicationYear</th>\n",
       "      <th>format</th>\n",
       "      <th>descriptionType</th>\n",
       "      <th>relatedIdentifier</th>\n",
       "      <th>created</th>\n",
       "      <th>updated</th>\n",
       "    </tr>\n",
       "  </thead>\n",
       "  <tbody>\n",
       "    <tr>\n",
       "      <th>0</th>\n",
       "      <td>10.5441/001/1.TC76G560</td>\n",
       "      <td>University of Konstanz</td>\n",
       "      <td>Movebank Data Repository</td>\n",
       "      <td>Data from: Olfaction and topography, but not m...</td>\n",
       "      <td>Pollonara E, Luschi P, Guilford T, Wikelski M,...</td>\n",
       "      <td>Pollonara, Enrica,Luschi, Paolo,Guilford, Tim,...</td>\n",
       "      <td>animal tracking,Argos,Calonectris diomedea,mag...</td>\n",
       "      <td>http://creativecommons.org/publicdomain/zero/1.0/</td>\n",
       "      <td>2015</td>\n",
       "      <td>csv</td>\n",
       "      <td>Other,Abstract</td>\n",
       "      <td>HasPart:DOI:10.5441/001/1.tc76g560/1,HasPart:D...</td>\n",
       "      <td>2015-10-27T19:25:24Z</td>\n",
       "      <td>2015-10-27T19:25:25Z</td>\n",
       "    </tr>\n",
       "    <tr>\n",
       "      <th>1</th>\n",
       "      <td>10.5441/001/1.TC76G560/1</td>\n",
       "      <td>University of Konstanz</td>\n",
       "      <td>Movebank Data Repository</td>\n",
       "      <td>Navigation in Scopoli's shearwaters (data from...</td>\n",
       "      <td>Pollonara E, Luschi P, Guilford T, Wikelski M,...</td>\n",
       "      <td>Pollonara, Enrica,Luschi, Paolo,Guilford, Tim,...</td>\n",
       "      <td>animal tracking,Argos,Calonectris diomedea,mag...</td>\n",
       "      <td>http://creativecommons.org/publicdomain/zero/1.0/</td>\n",
       "      <td>2015</td>\n",
       "      <td>csv</td>\n",
       "      <td>Other,Abstract</td>\n",
       "      <td>IsPartOf:DOI:10.5441/001/1.tc76g560,IsSuppleme...</td>\n",
       "      <td>2015-10-27T19:25:26Z</td>\n",
       "      <td>2015-10-27T19:25:27Z</td>\n",
       "    </tr>\n",
       "    <tr>\n",
       "      <th>2</th>\n",
       "      <td>10.5441/001/1.TC76G560/2</td>\n",
       "      <td>University of Konstanz</td>\n",
       "      <td>Movebank Data Repository</td>\n",
       "      <td>Navigation in Scopoli's shearwaters (data from...</td>\n",
       "      <td>Pollonara E, Luschi P, Guilford T, Wikelski M,...</td>\n",
       "      <td>Pollonara, Enrica,Luschi, Paolo,Guilford, Tim,...</td>\n",
       "      <td>animal tracking,Argos,Calonectris diomedea,mag...</td>\n",
       "      <td>http://creativecommons.org/publicdomain/zero/1.0/</td>\n",
       "      <td>2015</td>\n",
       "      <td>csv</td>\n",
       "      <td>Other,Abstract</td>\n",
       "      <td>IsPartOf:DOI:10.5441/001/1.tc76g560,IsSuppleme...</td>\n",
       "      <td>2015-10-27T19:25:28Z</td>\n",
       "      <td>2015-10-27T19:25:29Z</td>\n",
       "    </tr>\n",
       "    <tr>\n",
       "      <th>3</th>\n",
       "      <td>10.5441/001/1.TC76G560/3</td>\n",
       "      <td>University of Konstanz</td>\n",
       "      <td>Movebank Data Repository</td>\n",
       "      <td>Navigation in Scopoli's shearwaters (data from...</td>\n",
       "      <td>Pollonara E, Luschi P, Guilford T, Wikelski M,...</td>\n",
       "      <td>Pollonara, Enrica,Luschi, Paolo,Guilford, Tim,...</td>\n",
       "      <td>animal tracking,Argos,Calonectris diomedea,mag...</td>\n",
       "      <td>http://creativecommons.org/publicdomain/zero/1.0/</td>\n",
       "      <td>2015</td>\n",
       "      <td>csv</td>\n",
       "      <td>Other,Abstract</td>\n",
       "      <td>IsPartOf:DOI:10.5441/001/1.tc76g560,IsSuppleme...</td>\n",
       "      <td>2015-10-27T19:25:30Z</td>\n",
       "      <td>2015-10-27T19:25:30Z</td>\n",
       "    </tr>\n",
       "    <tr>\n",
       "      <th>4</th>\n",
       "      <td>10.5441/001/1.33159H1H</td>\n",
       "      <td>University of Konstanz</td>\n",
       "      <td>Movebank Data Repository</td>\n",
       "      <td>Data from: Temporal and contextual consistency...</td>\n",
       "      <td>Santos CD, Neupert S, Lipp H-P, Wikelski M, De...</td>\n",
       "      <td>Santos, Carlos David,Neupert, Stefanie,Lipp, H...</td>\n",
       "      <td>animal movement,animal navigation,collective m...</td>\n",
       "      <td>http://creativecommons.org/publicdomain/zero/1.0/</td>\n",
       "      <td>2014</td>\n",
       "      <td>csv</td>\n",
       "      <td>Other,Abstract</td>\n",
       "      <td>HasPart:DOI:10.5441/001/1.33159h1h/1,HasPart:D...</td>\n",
       "      <td>2014-07-31T16:56:08Z</td>\n",
       "      <td>2014-07-31T16:56:09Z</td>\n",
       "    </tr>\n",
       "  </tbody>\n",
       "</table>\n",
       "</div>"
      ],
      "text/plain": [
       "                        doi               publisher               contributor  \\\n",
       "0    10.5441/001/1.TC76G560  University of Konstanz  Movebank Data Repository   \n",
       "1  10.5441/001/1.TC76G560/1  University of Konstanz  Movebank Data Repository   \n",
       "2  10.5441/001/1.TC76G560/2  University of Konstanz  Movebank Data Repository   \n",
       "3  10.5441/001/1.TC76G560/3  University of Konstanz  Movebank Data Repository   \n",
       "4    10.5441/001/1.33159H1H  University of Konstanz  Movebank Data Repository   \n",
       "\n",
       "                                               title  \\\n",
       "0  Data from: Olfaction and topography, but not m...   \n",
       "1  Navigation in Scopoli's shearwaters (data from...   \n",
       "2  Navigation in Scopoli's shearwaters (data from...   \n",
       "3  Navigation in Scopoli's shearwaters (data from...   \n",
       "4  Data from: Temporal and contextual consistency...   \n",
       "\n",
       "                                         description  \\\n",
       "0  Pollonara E, Luschi P, Guilford T, Wikelski M,...   \n",
       "1  Pollonara E, Luschi P, Guilford T, Wikelski M,...   \n",
       "2  Pollonara E, Luschi P, Guilford T, Wikelski M,...   \n",
       "3  Pollonara E, Luschi P, Guilford T, Wikelski M,...   \n",
       "4  Santos CD, Neupert S, Lipp H-P, Wikelski M, De...   \n",
       "\n",
       "                                             creator  \\\n",
       "0  Pollonara, Enrica,Luschi, Paolo,Guilford, Tim,...   \n",
       "1  Pollonara, Enrica,Luschi, Paolo,Guilford, Tim,...   \n",
       "2  Pollonara, Enrica,Luschi, Paolo,Guilford, Tim,...   \n",
       "3  Pollonara, Enrica,Luschi, Paolo,Guilford, Tim,...   \n",
       "4  Santos, Carlos David,Neupert, Stefanie,Lipp, H...   \n",
       "\n",
       "                                             subject  \\\n",
       "0  animal tracking,Argos,Calonectris diomedea,mag...   \n",
       "1  animal tracking,Argos,Calonectris diomedea,mag...   \n",
       "2  animal tracking,Argos,Calonectris diomedea,mag...   \n",
       "3  animal tracking,Argos,Calonectris diomedea,mag...   \n",
       "4  animal movement,animal navigation,collective m...   \n",
       "\n",
       "                                           rightsURI publicationYear format  \\\n",
       "0  http://creativecommons.org/publicdomain/zero/1.0/            2015    csv   \n",
       "1  http://creativecommons.org/publicdomain/zero/1.0/            2015    csv   \n",
       "2  http://creativecommons.org/publicdomain/zero/1.0/            2015    csv   \n",
       "3  http://creativecommons.org/publicdomain/zero/1.0/            2015    csv   \n",
       "4  http://creativecommons.org/publicdomain/zero/1.0/            2014    csv   \n",
       "\n",
       "  descriptionType                                  relatedIdentifier  \\\n",
       "0  Other,Abstract  HasPart:DOI:10.5441/001/1.tc76g560/1,HasPart:D...   \n",
       "1  Other,Abstract  IsPartOf:DOI:10.5441/001/1.tc76g560,IsSuppleme...   \n",
       "2  Other,Abstract  IsPartOf:DOI:10.5441/001/1.tc76g560,IsSuppleme...   \n",
       "3  Other,Abstract  IsPartOf:DOI:10.5441/001/1.tc76g560,IsSuppleme...   \n",
       "4  Other,Abstract  HasPart:DOI:10.5441/001/1.33159h1h/1,HasPart:D...   \n",
       "\n",
       "                created               updated  \n",
       "0  2015-10-27T19:25:24Z  2015-10-27T19:25:25Z  \n",
       "1  2015-10-27T19:25:26Z  2015-10-27T19:25:27Z  \n",
       "2  2015-10-27T19:25:28Z  2015-10-27T19:25:29Z  \n",
       "3  2015-10-27T19:25:30Z  2015-10-27T19:25:30Z  \n",
       "4  2014-07-31T16:56:08Z  2014-07-31T16:56:09Z  "
      ]
     },
     "execution_count": 4,
     "metadata": {},
     "output_type": "execute_result"
    }
   ],
   "source": [
    "datasets.replace(to_replace={r'\\\\,': ','}, regex=True, inplace=True)\n",
    "# r'' indicates a raw string, here with a single escaped \\ and comma\n",
    "# regex=True, otherwise only whole field values are matched\n",
    "datasets.head()"
   ]
  },
  {
   "cell_type": "code",
   "execution_count": 5,
   "metadata": {
    "collapsed": false
   },
   "outputs": [],
   "source": [
    "datasets = datasets[datasets['publisher'] != 'OpenProceedings.org'] # Exclude OpenProceedings.org datasets"
   ]
  },
  {
   "cell_type": "markdown",
   "metadata": {},
   "source": [
    "### 3. Save list of datasets as a csv file"
   ]
  },
  {
   "cell_type": "code",
   "execution_count": 6,
   "metadata": {
    "collapsed": true
   },
   "outputs": [],
   "source": [
    "datasets.to_csv('../data/datasets.csv', index=False)"
   ]
  },
  {
   "cell_type": "markdown",
   "metadata": {},
   "source": [
    "### 4. Get some basic statistics"
   ]
  },
  {
   "cell_type": "code",
   "execution_count": 7,
   "metadata": {
    "collapsed": false
   },
   "outputs": [
    {
     "data": {
      "text/plain": [
       "220"
      ]
     },
     "execution_count": 7,
     "metadata": {},
     "output_type": "execute_result"
    }
   ],
   "source": [
    "datasets.count()['doi']"
   ]
  },
  {
   "cell_type": "code",
   "execution_count": 8,
   "metadata": {
    "collapsed": false
   },
   "outputs": [
    {
     "data": {
      "text/plain": [
       "['doi',\n",
       " 'publisher',\n",
       " 'contributor',\n",
       " 'title',\n",
       " 'description',\n",
       " 'creator',\n",
       " 'subject',\n",
       " 'rightsURI',\n",
       " 'publicationYear',\n",
       " 'format',\n",
       " 'descriptionType',\n",
       " 'relatedIdentifier',\n",
       " 'created',\n",
       " 'updated']"
      ]
     },
     "execution_count": 8,
     "metadata": {},
     "output_type": "execute_result"
    }
   ],
   "source": [
    "datasets.columns.tolist()"
   ]
  },
  {
   "cell_type": "code",
   "execution_count": 9,
   "metadata": {
    "collapsed": true
   },
   "outputs": [],
   "source": [
    "field_of_interest = 'publicationYear'"
   ]
  },
  {
   "cell_type": "code",
   "execution_count": 10,
   "metadata": {
    "collapsed": false
   },
   "outputs": [],
   "source": [
    "field_of_interest_groupby = datasets.groupby([field_of_interest]).count()['doi'].reset_index()"
   ]
  },
  {
   "cell_type": "code",
   "execution_count": 11,
   "metadata": {
    "collapsed": false,
    "scrolled": true
   },
   "outputs": [
    {
     "data": {
      "text/html": [
       "<div>\n",
       "<table border=\"1\" class=\"dataframe\">\n",
       "  <thead>\n",
       "    <tr style=\"text-align: right;\">\n",
       "      <th></th>\n",
       "      <th>publicationYear</th>\n",
       "      <th>doi</th>\n",
       "    </tr>\n",
       "  </thead>\n",
       "  <tbody>\n",
       "    <tr>\n",
       "      <th>0</th>\n",
       "      <td>2008</td>\n",
       "      <td>1</td>\n",
       "    </tr>\n",
       "    <tr>\n",
       "      <th>1</th>\n",
       "      <td>2009</td>\n",
       "      <td>2</td>\n",
       "    </tr>\n",
       "    <tr>\n",
       "      <th>2</th>\n",
       "      <td>2011</td>\n",
       "      <td>5</td>\n",
       "    </tr>\n",
       "    <tr>\n",
       "      <th>3</th>\n",
       "      <td>2012</td>\n",
       "      <td>15</td>\n",
       "    </tr>\n",
       "    <tr>\n",
       "      <th>4</th>\n",
       "      <td>2013</td>\n",
       "      <td>19</td>\n",
       "    </tr>\n",
       "    <tr>\n",
       "      <th>5</th>\n",
       "      <td>2014</td>\n",
       "      <td>41</td>\n",
       "    </tr>\n",
       "    <tr>\n",
       "      <th>6</th>\n",
       "      <td>2015</td>\n",
       "      <td>86</td>\n",
       "    </tr>\n",
       "    <tr>\n",
       "      <th>7</th>\n",
       "      <td>2016</td>\n",
       "      <td>41</td>\n",
       "    </tr>\n",
       "  </tbody>\n",
       "</table>\n",
       "</div>"
      ],
      "text/plain": [
       "  publicationYear  doi\n",
       "0            2008    1\n",
       "1            2009    2\n",
       "2            2011    5\n",
       "3            2012   15\n",
       "4            2013   19\n",
       "5            2014   41\n",
       "6            2015   86\n",
       "7            2016   41"
      ]
     },
     "execution_count": 11,
     "metadata": {},
     "output_type": "execute_result"
    }
   ],
   "source": [
    "field_of_interest_groupby"
   ]
  },
  {
   "cell_type": "code",
   "execution_count": 12,
   "metadata": {
    "collapsed": false,
    "scrolled": false
   },
   "outputs": [
    {
     "data": {
      "text/plain": [
       "<matplotlib.axes._subplots.AxesSubplot at 0x10a32b630>"
      ]
     },
     "execution_count": 12,
     "metadata": {},
     "output_type": "execute_result"
    },
    {
     "data": {
      "image/png": "[encoded data removed]",
      "text/plain": [
       "<matplotlib.figure.Figure at 0x10ab09748>"
      ]
     },
     "metadata": {},
     "output_type": "display_data"
    }
   ],
   "source": [
    "field_of_interest_groupby.plot(kind='bar', x=field_of_interest, legend=False)"
   ]
  }
 ],
 "metadata": {
  "kernelspec": {
   "display_name": "Python 3",
   "language": "python",
   "name": "python3"
  },
  "language_info": {
   "codemirror_mode": {
    "name": "ipython",
    "version": 3
   },
   "file_extension": ".py",
   "mimetype": "text/x-python",
   "name": "python",
   "nbconvert_exporter": "python",
   "pygments_lexer": "ipython3",
   "version": "3.5.1"
  }
 },
 "nbformat": 4,
 "nbformat_minor": 0
}
