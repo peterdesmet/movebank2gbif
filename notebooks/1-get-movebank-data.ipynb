{
 "cells": [
  {
   "cell_type": "markdown",
   "metadata": {},
   "source": [
    "# Download data packages from the Movebank data repository"
   ]
  },
  {
   "cell_type": "code",
   "execution_count": 1,
   "metadata": {
    "collapsed": false
   },
   "outputs": [],
   "source": [
    "# %matplotlib inline\n",
    "\n",
    "import requests\n",
    "import json\n",
    "# from io import StringIO\n",
    "import pandas as pd\n",
    "# import matplotlib.pyplot as plt\n",
    "# plt.style.use('seaborn-white')\n",
    "# from bs4 import BeautifulSoup\n",
    "# import re"
   ]
  },
  {
   "cell_type": "markdown",
   "metadata": {},
   "source": [
    "## Get list of data packages"
   ]
  },
  {
   "cell_type": "markdown",
   "metadata": {},
   "source": [
    "We want to get a list of all relevant data packages deposited in the [Movebank data repository](https://www.datarepository.movebank.org/). This repository - which is build on top of [Dryad's DSpace](https://github.com/datadryad/dryad-repo) - offers some services to do this, such as [OAI-PMH](https://www.datarepository.movebank.org/oai/request?verb=ListRecords&from=2000-01-01&metadataPrefix=oai_dc), but since all relevant data packages are also registered via [DataCite](https://www.datacite.org/), we use [their more convenient API](http://api.datacite.org/) instead."
   ]
  },
  {
   "cell_type": "markdown",
   "metadata": {},
   "source": [
    "Applied search filters:\n",
    "\n",
    "* `publisher` = `tib.ukon`: All Movebank packages are published by the Universität Konstanz - Bibliothek.\n",
    "* `recource-type-id` = `dataset`: To exclude collections and other works published by `tib.ukon`.\n",
    "* `query` = `Movebank Data Repository`: All relevant packages will have this populated in `contributor`. Movebank packages that don't are test records (see [issue 2](https://github.com/peterdesmet/movebank2gbif/issues/2))."
   ]
  },
  {
   "cell_type": "markdown",
   "metadata": {},
   "source": [
    "**Note: Still need to add `rows` to get all packages, not just 27.**"
   ]
  },
  {
   "cell_type": "code",
   "execution_count": 2,
   "metadata": {
    "collapsed": false
   },
   "outputs": [
    {
     "data": {
      "text/plain": [
       "'https://api.datacite.org/works?query=Movebank+Data+Repository&resource-type-id=dataset&publisher-id=tib.ukon'"
      ]
     },
     "execution_count": 2,
     "metadata": {},
     "output_type": "execute_result"
    }
   ],
   "source": [
    "parameters = {\n",
    "    'publisher-id': 'tib.ukon',\n",
    "    'resource-type-id': 'dataset',\n",
    "    'query': 'Movebank Data Repository'\n",
    "}\n",
    "results = requests.get('https://api.datacite.org/works', params=parameters)\n",
    "results.url"
   ]
  },
  {
   "cell_type": "code",
   "execution_count": 3,
   "metadata": {
    "collapsed": false
   },
   "outputs": [],
   "source": [
    "data_packages_dict = results.json()"
   ]
  },
  {
   "cell_type": "code",
   "execution_count": 4,
   "metadata": {
    "collapsed": false
   },
   "outputs": [
    {
     "name": "stdout",
     "output_type": "stream",
     "text": [
      "http://doi.org/10.5441/001/1.NF80477P/2\n",
      "http://doi.org/10.5441/001/1.3HP3S250/1\n",
      "http://doi.org/10.5441/001/1.NF80477P\n",
      "http://doi.org/10.5441/001/1.NF80477P/1\n",
      "http://doi.org/10.5441/001/1.3HP3S250/2\n",
      "http://doi.org/10.5441/001/1.F3550B4F\n",
      "http://doi.org/10.5441/001/1.F3550B4F/1\n",
      "http://doi.org/10.5441/001/1.F3550B4F/2\n",
      "http://doi.org/10.5441/001/1.8C56F72S\n",
      "http://doi.org/10.5441/001/1.8C56F72S/1\n",
      "http://doi.org/10.5441/001/1.8C56F72S/2\n",
      "http://doi.org/10.5441/001/1.PR1VJ29N\n",
      "http://doi.org/10.5441/001/1.PR1VJ29N/1\n",
      "http://doi.org/10.5441/001/1.PR1VJ29N/2\n",
      "http://doi.org/10.5441/001/1.62S17B4V\n",
      "http://doi.org/10.5441/001/1.62S17B4V/1\n",
      "http://doi.org/10.5441/001/1.62S17B4V/2\n",
      "http://doi.org/10.5441/001/1.F321PF80\n",
      "http://doi.org/10.5441/001/1.F321PF80/1\n",
      "http://doi.org/10.5441/001/1.F321PF80/2\n",
      "http://doi.org/10.5441/001/1.5JD56S8H\n",
      "http://doi.org/10.5441/001/1.5JD56S8H/1\n",
      "http://doi.org/10.5441/001/1.5JD56S8H/2\n",
      "http://doi.org/10.5441/001/1.5JD56S8H/3\n",
      "http://doi.org/10.5441/001/1.PV048Q7V\n",
      "dataset\n",
      "tib.ukon\n"
     ]
    }
   ],
   "source": [
    "for package in data_packages_dict['data']:\n",
    "    print(package['id'])"
   ]
  },
  {
   "cell_type": "code",
   "execution_count": 5,
   "metadata": {
    "collapsed": true
   },
   "outputs": [],
   "source": [
    "# Load dict directly into df\n",
    "data_packages_df = pd.DataFrame(data_packages_dict['data'])"
   ]
  },
  {
   "cell_type": "code",
   "execution_count": 6,
   "metadata": {
    "collapsed": false
   },
   "outputs": [
    {
     "data": {
      "text/html": [
       "<div>\n",
       "<table border=\"1\" class=\"dataframe\">\n",
       "  <thead>\n",
       "    <tr style=\"text-align: right;\">\n",
       "      <th></th>\n",
       "      <th>attributes</th>\n",
       "      <th>id</th>\n",
       "      <th>type</th>\n",
       "    </tr>\n",
       "  </thead>\n",
       "  <tbody>\n",
       "    <tr>\n",
       "      <th>0</th>\n",
       "      <td>{'description': 'Gagliardo A, Bried J, Lambard...</td>\n",
       "      <td>http://doi.org/10.5441/001/1.NF80477P/2</td>\n",
       "      <td>works</td>\n",
       "    </tr>\n",
       "    <tr>\n",
       "      <th>1</th>\n",
       "      <td>{'description': 'Dodge S, Bohrer G, Weinzierl ...</td>\n",
       "      <td>http://doi.org/10.5441/001/1.3HP3S250/1</td>\n",
       "      <td>works</td>\n",
       "    </tr>\n",
       "    <tr>\n",
       "      <th>2</th>\n",
       "      <td>{'description': 'Gagliardo A, Bried J, Lambard...</td>\n",
       "      <td>http://doi.org/10.5441/001/1.NF80477P</td>\n",
       "      <td>works</td>\n",
       "    </tr>\n",
       "    <tr>\n",
       "      <th>3</th>\n",
       "      <td>{'description': 'Gagliardo A, Bried J, Lambard...</td>\n",
       "      <td>http://doi.org/10.5441/001/1.NF80477P/1</td>\n",
       "      <td>works</td>\n",
       "    </tr>\n",
       "    <tr>\n",
       "      <th>4</th>\n",
       "      <td>{'description': 'Dodge S, Bohrer G, Weinzierl ...</td>\n",
       "      <td>http://doi.org/10.5441/001/1.3HP3S250/2</td>\n",
       "      <td>works</td>\n",
       "    </tr>\n",
       "    <tr>\n",
       "      <th>5</th>\n",
       "      <td>{'description': 'Bartlam-Brooks HLA, Beck PSA,...</td>\n",
       "      <td>http://doi.org/10.5441/001/1.F3550B4F</td>\n",
       "      <td>works</td>\n",
       "    </tr>\n",
       "    <tr>\n",
       "      <th>6</th>\n",
       "      <td>{'description': 'Bartlam-Brooks HLA, Beck PSA,...</td>\n",
       "      <td>http://doi.org/10.5441/001/1.F3550B4F/1</td>\n",
       "      <td>works</td>\n",
       "    </tr>\n",
       "    <tr>\n",
       "      <th>7</th>\n",
       "      <td>{'description': 'Bartlam-Brooks HLA, Beck PSA,...</td>\n",
       "      <td>http://doi.org/10.5441/001/1.F3550B4F/2</td>\n",
       "      <td>works</td>\n",
       "    </tr>\n",
       "    <tr>\n",
       "      <th>8</th>\n",
       "      <td>{'description': 'Spiegel OM, Harel R, Centeno-...</td>\n",
       "      <td>http://doi.org/10.5441/001/1.8C56F72S</td>\n",
       "      <td>works</td>\n",
       "    </tr>\n",
       "    <tr>\n",
       "      <th>9</th>\n",
       "      <td>{'description': 'Spiegel OM, Harel R, Centeno-...</td>\n",
       "      <td>http://doi.org/10.5441/001/1.8C56F72S/1</td>\n",
       "      <td>works</td>\n",
       "    </tr>\n",
       "    <tr>\n",
       "      <th>10</th>\n",
       "      <td>{'description': 'Spiegel OM, Harel R, Centeno-...</td>\n",
       "      <td>http://doi.org/10.5441/001/1.8C56F72S/2</td>\n",
       "      <td>works</td>\n",
       "    </tr>\n",
       "    <tr>\n",
       "      <th>11</th>\n",
       "      <td>{'description': 'Spiegel O, Getz WM, Nathan R ...</td>\n",
       "      <td>http://doi.org/10.5441/001/1.PR1VJ29N</td>\n",
       "      <td>works</td>\n",
       "    </tr>\n",
       "    <tr>\n",
       "      <th>12</th>\n",
       "      <td>{'description': 'Spiegel O, Getz WM, Nathan R ...</td>\n",
       "      <td>http://doi.org/10.5441/001/1.PR1VJ29N/1</td>\n",
       "      <td>works</td>\n",
       "    </tr>\n",
       "    <tr>\n",
       "      <th>13</th>\n",
       "      <td>{'description': 'Spiegel O, Getz WM, Nathan R ...</td>\n",
       "      <td>http://doi.org/10.5441/001/1.PR1VJ29N/2</td>\n",
       "      <td>works</td>\n",
       "    </tr>\n",
       "    <tr>\n",
       "      <th>14</th>\n",
       "      <td>{'description': 'Sapir N, Horvitz N, Dechmann ...</td>\n",
       "      <td>http://doi.org/10.5441/001/1.62S17B4V</td>\n",
       "      <td>works</td>\n",
       "    </tr>\n",
       "    <tr>\n",
       "      <th>15</th>\n",
       "      <td>{'description': 'Sapir N, Horvitz N, Dechmann ...</td>\n",
       "      <td>http://doi.org/10.5441/001/1.62S17B4V/1</td>\n",
       "      <td>works</td>\n",
       "    </tr>\n",
       "    <tr>\n",
       "      <th>16</th>\n",
       "      <td>{'description': 'Sapir N, Horvitz N, Dechmann ...</td>\n",
       "      <td>http://doi.org/10.5441/001/1.62S17B4V/2</td>\n",
       "      <td>works</td>\n",
       "    </tr>\n",
       "    <tr>\n",
       "      <th>17</th>\n",
       "      <td>{'description': 'Wall J, Wittemyer G, LeMay V,...</td>\n",
       "      <td>http://doi.org/10.5441/001/1.F321PF80</td>\n",
       "      <td>works</td>\n",
       "    </tr>\n",
       "    <tr>\n",
       "      <th>18</th>\n",
       "      <td>{'description': 'Wall J, Wittemyer G, LeMay V,...</td>\n",
       "      <td>http://doi.org/10.5441/001/1.F321PF80/1</td>\n",
       "      <td>works</td>\n",
       "    </tr>\n",
       "    <tr>\n",
       "      <th>19</th>\n",
       "      <td>{'description': 'Wall J, Wittemyer G, LeMay V,...</td>\n",
       "      <td>http://doi.org/10.5441/001/1.F321PF80/2</td>\n",
       "      <td>works</td>\n",
       "    </tr>\n",
       "    <tr>\n",
       "      <th>20</th>\n",
       "      <td>{'description': 'Ross JD, Bridge ES, Rozmaryno...</td>\n",
       "      <td>http://doi.org/10.5441/001/1.5JD56S8H</td>\n",
       "      <td>works</td>\n",
       "    </tr>\n",
       "    <tr>\n",
       "      <th>21</th>\n",
       "      <td>{'description': 'Ross JD, Bridge ES, Rozmaryno...</td>\n",
       "      <td>http://doi.org/10.5441/001/1.5JD56S8H/1</td>\n",
       "      <td>works</td>\n",
       "    </tr>\n",
       "    <tr>\n",
       "      <th>22</th>\n",
       "      <td>{'description': 'Ross JD, Bridge ES, Rozmaryno...</td>\n",
       "      <td>http://doi.org/10.5441/001/1.5JD56S8H/2</td>\n",
       "      <td>works</td>\n",
       "    </tr>\n",
       "    <tr>\n",
       "      <th>23</th>\n",
       "      <td>{'description': 'Ross JD, Bridge ES, Rozmaryno...</td>\n",
       "      <td>http://doi.org/10.5441/001/1.5JD56S8H/3</td>\n",
       "      <td>works</td>\n",
       "    </tr>\n",
       "    <tr>\n",
       "      <th>24</th>\n",
       "      <td>{'description': 'van Bommel L, Johnson CN (201...</td>\n",
       "      <td>http://doi.org/10.5441/001/1.PV048Q7V</td>\n",
       "      <td>works</td>\n",
       "    </tr>\n",
       "    <tr>\n",
       "      <th>25</th>\n",
       "      <td>{'title': 'Dataset', 'updated': '2014-10-16'}</td>\n",
       "      <td>dataset</td>\n",
       "      <td>resource-types</td>\n",
       "    </tr>\n",
       "    <tr>\n",
       "      <th>26</th>\n",
       "      <td>{'registration-agency-id': None, 'member-id': ...</td>\n",
       "      <td>tib.ukon</td>\n",
       "      <td>publishers</td>\n",
       "    </tr>\n",
       "  </tbody>\n",
       "</table>\n",
       "</div>"
      ],
      "text/plain": [
       "                                           attributes  \\\n",
       "0   {'description': 'Gagliardo A, Bried J, Lambard...   \n",
       "1   {'description': 'Dodge S, Bohrer G, Weinzierl ...   \n",
       "2   {'description': 'Gagliardo A, Bried J, Lambard...   \n",
       "3   {'description': 'Gagliardo A, Bried J, Lambard...   \n",
       "4   {'description': 'Dodge S, Bohrer G, Weinzierl ...   \n",
       "5   {'description': 'Bartlam-Brooks HLA, Beck PSA,...   \n",
       "6   {'description': 'Bartlam-Brooks HLA, Beck PSA,...   \n",
       "7   {'description': 'Bartlam-Brooks HLA, Beck PSA,...   \n",
       "8   {'description': 'Spiegel OM, Harel R, Centeno-...   \n",
       "9   {'description': 'Spiegel OM, Harel R, Centeno-...   \n",
       "10  {'description': 'Spiegel OM, Harel R, Centeno-...   \n",
       "11  {'description': 'Spiegel O, Getz WM, Nathan R ...   \n",
       "12  {'description': 'Spiegel O, Getz WM, Nathan R ...   \n",
       "13  {'description': 'Spiegel O, Getz WM, Nathan R ...   \n",
       "14  {'description': 'Sapir N, Horvitz N, Dechmann ...   \n",
       "15  {'description': 'Sapir N, Horvitz N, Dechmann ...   \n",
       "16  {'description': 'Sapir N, Horvitz N, Dechmann ...   \n",
       "17  {'description': 'Wall J, Wittemyer G, LeMay V,...   \n",
       "18  {'description': 'Wall J, Wittemyer G, LeMay V,...   \n",
       "19  {'description': 'Wall J, Wittemyer G, LeMay V,...   \n",
       "20  {'description': 'Ross JD, Bridge ES, Rozmaryno...   \n",
       "21  {'description': 'Ross JD, Bridge ES, Rozmaryno...   \n",
       "22  {'description': 'Ross JD, Bridge ES, Rozmaryno...   \n",
       "23  {'description': 'Ross JD, Bridge ES, Rozmaryno...   \n",
       "24  {'description': 'van Bommel L, Johnson CN (201...   \n",
       "25      {'title': 'Dataset', 'updated': '2014-10-16'}   \n",
       "26  {'registration-agency-id': None, 'member-id': ...   \n",
       "\n",
       "                                         id            type  \n",
       "0   http://doi.org/10.5441/001/1.NF80477P/2           works  \n",
       "1   http://doi.org/10.5441/001/1.3HP3S250/1           works  \n",
       "2     http://doi.org/10.5441/001/1.NF80477P           works  \n",
       "3   http://doi.org/10.5441/001/1.NF80477P/1           works  \n",
       "4   http://doi.org/10.5441/001/1.3HP3S250/2           works  \n",
       "5     http://doi.org/10.5441/001/1.F3550B4F           works  \n",
       "6   http://doi.org/10.5441/001/1.F3550B4F/1           works  \n",
       "7   http://doi.org/10.5441/001/1.F3550B4F/2           works  \n",
       "8     http://doi.org/10.5441/001/1.8C56F72S           works  \n",
       "9   http://doi.org/10.5441/001/1.8C56F72S/1           works  \n",
       "10  http://doi.org/10.5441/001/1.8C56F72S/2           works  \n",
       "11    http://doi.org/10.5441/001/1.PR1VJ29N           works  \n",
       "12  http://doi.org/10.5441/001/1.PR1VJ29N/1           works  \n",
       "13  http://doi.org/10.5441/001/1.PR1VJ29N/2           works  \n",
       "14    http://doi.org/10.5441/001/1.62S17B4V           works  \n",
       "15  http://doi.org/10.5441/001/1.62S17B4V/1           works  \n",
       "16  http://doi.org/10.5441/001/1.62S17B4V/2           works  \n",
       "17    http://doi.org/10.5441/001/1.F321PF80           works  \n",
       "18  http://doi.org/10.5441/001/1.F321PF80/1           works  \n",
       "19  http://doi.org/10.5441/001/1.F321PF80/2           works  \n",
       "20    http://doi.org/10.5441/001/1.5JD56S8H           works  \n",
       "21  http://doi.org/10.5441/001/1.5JD56S8H/1           works  \n",
       "22  http://doi.org/10.5441/001/1.5JD56S8H/2           works  \n",
       "23  http://doi.org/10.5441/001/1.5JD56S8H/3           works  \n",
       "24    http://doi.org/10.5441/001/1.PV048Q7V           works  \n",
       "25                                  dataset  resource-types  \n",
       "26                                 tib.ukon      publishers  "
      ]
     },
     "execution_count": 6,
     "metadata": {},
     "output_type": "execute_result"
    }
   ],
   "source": [
    "data_packages_df"
   ]
  },
  {
   "cell_type": "markdown",
   "metadata": {},
   "source": [
    "**Note: Why do I get back non-`work` types?**"
   ]
  }
 ],
 "metadata": {
  "kernelspec": {
   "display_name": "Python 3",
   "language": "python",
   "name": "python3"
  },
  "language_info": {
   "codemirror_mode": {
    "name": "ipython",
    "version": 3
   },
   "file_extension": ".py",
   "mimetype": "text/x-python",
   "name": "python",
   "nbconvert_exporter": "python",
   "pygments_lexer": "ipython3",
   "version": "3.5.1"
  }
 },
 "nbformat": 4,
 "nbformat_minor": 0
}
